{
 "cells": [
  {
   "cell_type": "code",
   "execution_count": 18,
   "metadata": {},
   "outputs": [],
   "source": [
    "import numpy as np\n",
    "\n",
    "def sigmoid(x):\n",
    "    \"\"\"Sigmoid function.\"\"\"\n",
    "    return 1 / (1 + np.exp(-x))\n",
    "\n",
    "def irls(X, y, max_iterations=100, tolerance=1e-6):\n",
    "    \"\"\"\n",
    "    Iteratively Reweighted Least Squares (IRLS) algorithm for logistic regression.\n",
    "    \n",
    "    Parameters:\n",
    "    X (array-like, shape=(n_samples, n_features)): Training data.\n",
    "    y (array-like, shape=(n_samples,)): Target labels.\n",
    "    max_iterations (int): Maximum number of iterations. Default is 100.\n",
    "    tolerance (float): Convergence criterion. Default is 1e-6.\n",
    "    \n",
    "    Returns:\n",
    "    beta (array-like, shape=(n_features,)): Estimated coefficients.\n",
    "    \"\"\"\n",
    "    # Initialize beta with zeros\n",
    "    beta = np.zeros(X.shape[1])\n",
    "    \n",
    "    # Loop until convergence or maximum iterations reached\n",
    "    for i in range(max_iterations):\n",
    "        # Compute probabilities using current coefficients\n",
    "        p = sigmoid(X @ beta)\n",
    "        \n",
    "        # Compute diagonal weight matrix\n",
    "        W = np.diag(p * (1 - p))\n",
    "        \n",
    "        # Compute gradient and Hessian\n",
    "        gradient = X.T @ (y - p)\n",
    "        hessian = X.T @ W @ X\n",
    "        \n",
    "        # Update coefficients\n",
    "        beta_new = beta + np.linalg.inv(hessian) @ gradient\n",
    "        \n",
    "        # Check convergence\n",
    "        if np.max(np.abs(beta_new - beta)) < tolerance:\n",
    "            break\n",
    "        \n",
    "        beta = beta_new\n",
    "    \n",
    "    return beta\n"
   ]
  },
  {
   "cell_type": "code",
   "execution_count": 19,
   "metadata": {},
   "outputs": [
    {
     "name": "stdout",
     "output_type": "stream",
     "text": [
      "[ 0.69314718 -0.69314718]\n"
     ]
    }
   ],
   "source": [
    "X = np.array([[1, 2], [3, 4], [5, 6]])\n",
    "y = np.array([0, 1, 0])\n",
    "\n",
    "beta = irls(X, y)\n",
    "print(beta)\n"
   ]
  },
  {
   "cell_type": "code",
   "execution_count": null,
   "metadata": {},
   "outputs": [],
   "source": []
  }
 ],
 "metadata": {
  "kernelspec": {
   "display_name": "Python 3",
   "language": "python",
   "name": "python3"
  },
  "language_info": {
   "codemirror_mode": {
    "name": "ipython",
    "version": 3
   },
   "file_extension": ".py",
   "mimetype": "text/x-python",
   "name": "python",
   "nbconvert_exporter": "python",
   "pygments_lexer": "ipython3",
   "version": "3.10.8"
  },
  "orig_nbformat": 4
 },
 "nbformat": 4,
 "nbformat_minor": 2
}
