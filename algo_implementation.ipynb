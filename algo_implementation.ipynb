{
 "cells": [
  {
   "cell_type": "code",
   "execution_count": 1,
   "metadata": {},
   "outputs": [],
   "source": [
    "import numpy as np\n",
    "\n",
    "def sigmoid(x):\n",
    "    \"\"\"Sigmoid function.\"\"\"\n",
    "    return 1 / (1 + np.exp(-x))\n",
    "\n",
    "\n",
    "def add_columns_with_combinations(X, comb_matrix, func = np.add):\n",
    "    \"\"\"Add columns with combinations of features.\"\"\"\n",
    "    for comb in comb_matrix:\n",
    "        X = np.c_[X, func(X[:, comb[0]], X[:, comb[1]])]\n",
    "    return X\n",
    "\n",
    "    \n",
    "def irls(X, y, max_iterations=100, tolerance=1e-6, combination_matrix = None):\n",
    "    \"\"\"\n",
    "    Iteratively Reweighted Least Squares (IRLS) algorithm for logistic regression.\n",
    "    \n",
    "    Parameters:\n",
    "    X (array-like, shape=(n_samples, n_features)): Training data.\n",
    "    y (array-like, shape=(n_samples,)): Target labels.\n",
    "    max_iterations (int): Maximum number of iterations. Default is 100.\n",
    "    tolerance (float): Convergence criterion. Default is 1e-6.\n",
    "    combination_matrix (array-like, shape=(n_combinations, 2)): Matrix with combinations of features.\n",
    "    \n",
    "    Returns:\n",
    "    beta (array-like, shape=(n_features,)): Estimated coefficients.\n",
    "    \"\"\"\n",
    "    # Add columns with combinations of features\n",
    "    if combination_matrix is not None:\n",
    "        X = add_columns_with_combinations(X, combination_matrix)\n",
    "\n",
    "    # Initialize beta with zeros\n",
    "    beta = np.zeros(X.shape[1])\n",
    "    \n",
    "    # Loop until convergence or maximum iterations reached\n",
    "    for i in range(max_iterations):\n",
    "        # Compute probabilities using current coefficients\n",
    "        p = sigmoid(X @ beta)\n",
    "        \n",
    "        # Compute diagonal weight matrix\n",
    "        W = np.diag(p * (1 - p))\n",
    "        \n",
    "        # Compute gradient and Hessian\n",
    "        gradient = X.T @ (y - p)\n",
    "        hessian = X.T @ W @ X\n",
    "        \n",
    "        # Update coefficients\n",
    "        beta_new = beta + np.linalg.inv(hessian) @ gradient\n",
    "        \n",
    "        # Check convergence\n",
    "        if np.max(np.abs(beta_new - beta)) < tolerance:\n",
    "            break\n",
    "        \n",
    "        beta = beta_new\n",
    "    \n",
    "    return beta\n"
   ]
  },
  {
   "cell_type": "code",
   "execution_count": 2,
   "metadata": {},
   "outputs": [],
   "source": [
    "class logistic_regression():\n",
    "    def __init__(self):\n",
    "        self.beta = None        \n",
    "        \n",
    "    def fit(self, X, y, max_iterations=100, tolerance=1e-6, combination_matrix = None):\n",
    "        \"\"\"\n",
    "        Fit the model according to the given training data.\n",
    "        \n",
    "        Parameters:\n",
    "        X (array-like, shape=(n_samples, n_features)): Training data.\n",
    "        y (array-like, shape=(n_samples,)): Target labels.\n",
    "        max_iterations (int): Maximum number of iterations. Default is 100.\n",
    "        tolerance (float): Convergence criterion. Default is 1e-6.\n",
    "        combination_matrix (array-like, shape=(n_combinations, 2)): Matrix with combinations of features.\n",
    "        \n",
    "        Returns:\n",
    "        self\n",
    "        \"\"\"\n",
    "        self.beta = irls(X, y, max_iterations, tolerance, combination_matrix)\n",
    "        \n",
    "    \n",
    "    def predict(self, X):\n",
    "        \"\"\"\n",
    "        Predict class labels for samples in X.\n",
    "        \n",
    "        Parameters:\n",
    "        X (array-like, shape=(n_samples, n_features)): Samples.\n",
    "        \n",
    "        Returns:\n",
    "        y (array-like, shape=(n_samples,)): Predicted class labels.\n",
    "        \"\"\"\n",
    "        return np.round(sigmoid(X @ self.beta))\n",
    "    \n",
    "    def accuracy(self, Xtest, ytest):\n",
    "        prediction = self.predict(Xtest)\n",
    "        return np.sum(prediction == ytest)/ytest.size\n"
   ]
  },
  {
   "cell_type": "code",
   "execution_count": 3,
   "metadata": {},
   "outputs": [
    {
     "name": "stdout",
     "output_type": "stream",
     "text": [
      "[0. 0.]\n",
      "[ 0.66666667 -0.66666667]\n",
      "[ 0.6930334 -0.6930334]\n",
      "[ 0.69314718 -0.69314718]\n"
     ]
    }
   ],
   "source": [
    "X = np.array([[1, 2], [3, 4], [5, 6]])\n",
    "y = np.array([0, 1, 0])\n",
    "\n",
    "beta = irls(X, y)\n",
    "print(beta)\n"
   ]
  }
 ],
 "metadata": {
  "kernelspec": {
   "display_name": "Python 3",
   "language": "python",
   "name": "python3"
  },
  "language_info": {
   "codemirror_mode": {
    "name": "ipython",
    "version": 3
   },
   "file_extension": ".py",
   "mimetype": "text/x-python",
   "name": "python",
   "nbconvert_exporter": "python",
   "pygments_lexer": "ipython3",
   "version": "3.10.7"
  },
  "orig_nbformat": 4
 },
 "nbformat": 4,
 "nbformat_minor": 2
}
