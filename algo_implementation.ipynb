{
 "cells": [
  {
   "cell_type": "code",
   "execution_count": 6,
   "metadata": {},
   "outputs": [
    {
     "name": "stdout",
     "output_type": "stream",
     "text": [
      "[3.81553526e-08 9.99999989e-01]\n"
     ]
    }
   ],
   "source": [
    "import numpy as np\n",
    "import matplotlib.pyplot as plt\n",
    "import pandas as pd\n",
    "\n",
    "def IRLS(X, y, w_init, max_iter, eps, lam):\n",
    "    w = w_init\n",
    "    for i in range(max_iter):\n",
    "        w_old = w\n",
    "        w = w_old - np.linalg.inv(X.T.dot(X) + lam * np.identity(X.shape[1])).dot(X.T).dot(X.dot(w_old) - y)\n",
    "        if np.linalg.norm(w - w_old) < eps:\n",
    "            break\n",
    "    return w\n",
    "\n",
    "# example\n",
    "X = np.array([[1, 1], [1, 2], [1, 3], [1, 4], [1, 5]])\n",
    "y = np.array([1, 2, 3, 4, 5])\n",
    "w_init = np.array([0, 0])\n",
    "max_iter = 100\n",
    "eps = 1e-6\n",
    "lam = 0.1\n",
    "w = IRLS(X, y, w_init, max_iter, eps, lam)\n",
    "print(w)"
   ]
  },
  {
   "cell_type": "code",
   "execution_count": null,
   "metadata": {},
   "outputs": [],
   "source": []
  },
  {
   "cell_type": "code",
   "execution_count": null,
   "metadata": {},
   "outputs": [],
   "source": []
  }
 ],
 "metadata": {
  "kernelspec": {
   "display_name": "Python 3",
   "language": "python",
   "name": "python3"
  },
  "language_info": {
   "codemirror_mode": {
    "name": "ipython",
    "version": 3
   },
   "file_extension": ".py",
   "mimetype": "text/x-python",
   "name": "python",
   "nbconvert_exporter": "python",
   "pygments_lexer": "ipython3",
   "version": "3.10.8"
  },
  "orig_nbformat": 4
 },
 "nbformat": 4,
 "nbformat_minor": 2
}
