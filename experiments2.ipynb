{
 "cells": [
  {
   "cell_type": "code",
   "execution_count": 5,
   "metadata": {},
   "outputs": [],
   "source": [
    "train_df.set_index('DateTime', inplace=True)"
   ]
  },
  {
   "cell_type": "code",
   "execution_count": 7,
   "metadata": {},
   "outputs": [],
   "source": [
    "test_df"
   ]
  },
  {
   "cell_type": "code",
   "execution_count": 10,
   "metadata": {},
   "outputs": [
    {
     "name": "stdout",
     "output_type": "stream",
     "text": [
      "Logistic Regression:\n",
      "Accuracy: 0.989\n",
      "Precision: 0.9879708629323659\n",
      "Recall: 0.9872321252569627\n",
      "\n",
      "LDA:\n",
      "Accuracy: 0.9155\n",
      "Precision: 0.9213900134952766\n",
      "Recall: 0.8868942017966264\n",
      "\n",
      "QDA:\n",
      "Accuracy: 0.952\n",
      "Precision: 0.9516958599924291\n",
      "Recall: 0.9395173326574864\n",
      "\n",
      "KNN:\n",
      "Accuracy: 0.965\n",
      "Precision: 0.9608959975452123\n",
      "Recall: 0.960198248430064\n"
     ]
    }
   ],
   "source": [
    "import pandas as pd\n",
    "from sklearn.discriminant_analysis import LinearDiscriminantAnalysis, QuadraticDiscriminantAnalysis\n",
    "from sklearn.neighbors import KNeighborsClassifier\n",
    "from sklearn.metrics import accuracy_score, precision_score, recall_score\n",
    "from algo_implementation import logistic_regression\n",
    "\n",
    "# Load train and test datasets\n",
    "train_df = pd.read_csv('train_dataset2.csv')\n",
    "train_df.set_index('DateTime', inplace=True)\n",
    "test_df = pd.read_csv('test_dataset2.csv')\n",
    "test_df.set_index('DateTime', inplace=True)\n",
    "\n",
    "# Extract features and target variable\n",
    "X_train, y_train = train_df.iloc[:, :-1], train_df.iloc[:, -1]\n",
    "X_test, y_test = test_df.iloc[:, :-1], test_df.iloc[:, -1]\n",
    "\n",
    "# Train and evaluate logistic regression\n",
    "lr = logistic_regression()\n",
    "lr.fit(X_train, y_train)\n",
    "lr_pred = lr.predict(X_test)\n",
    "lr_acc = accuracy_score(y_test, lr_pred)\n",
    "lr_precision = precision_score(y_test, lr_pred, average='macro')\n",
    "lr_recall = recall_score(y_test, lr_pred, average='macro')\n",
    "\n",
    "# Train and evaluate LDA\n",
    "lda = LinearDiscriminantAnalysis()\n",
    "lda.fit(X_train, y_train)\n",
    "lda_pred = lda.predict(X_test)\n",
    "lda_acc = accuracy_score(y_test, lda_pred)\n",
    "lda_precision = precision_score(y_test, lda_pred, average='macro')\n",
    "lda_recall = recall_score(y_test, lda_pred, average='macro')\n",
    "\n",
    "# Train and evaluate QDA\n",
    "qda = QuadraticDiscriminantAnalysis()\n",
    "qda.fit(X_train, y_train)\n",
    "qda_pred = qda.predict(X_test)\n",
    "qda_acc = accuracy_score(y_test, qda_pred)\n",
    "qda_precision = precision_score(y_test, qda_pred, average='macro')\n",
    "qda_recall = recall_score(y_test, qda_pred, average='macro')\n",
    "\n",
    "# Train and evaluate KNN\n",
    "knn = KNeighborsClassifier()\n",
    "knn.fit(X_train, y_train)\n",
    "knn_pred = knn.predict(X_test)\n",
    "knn_acc = accuracy_score(y_test, knn_pred)\n",
    "knn_precision = precision_score(y_test, knn_pred, average='macro')\n",
    "knn_recall = recall_score(y_test, knn_pred, average='macro')\n",
    "\n",
    "# Print evaluation results\n",
    "print('Logistic Regression:')\n",
    "print(f'Accuracy: {lr_acc}')\n",
    "print(f'Precision: {lr_precision}')\n",
    "print(f'Recall: {lr_recall}')\n",
    "print()\n",
    "print('LDA:')\n",
    "print(f'Accuracy: {lda_acc}')\n",
    "print(f'Precision: {lda_precision}')\n",
    "print(f'Recall: {lda_recall}')\n",
    "print()\n",
    "print('QDA:')\n",
    "print(f'Accuracy: {qda_acc}')\n",
    "print(f'Precision: {qda_precision}')\n",
    "print(f'Recall: {qda_recall}')\n",
    "print()\n",
    "print('KNN:')\n",
    "print(f'Accuracy: {knn_acc}')\n",
    "print(f'Precision: {knn_precision}')\n",
    "print(f'Recall: {knn_recall}')\n"
   ]
  },
  {
   "cell_type": "code",
   "execution_count": 21,
   "metadata": {},
   "outputs": [
    {
     "name": "stdout",
     "output_type": "stream",
     "text": [
      "Logistic Regression:\n",
      "Accuracy: 0.989\n",
      "Precision: 0.9879708629323659\n",
      "Recall: 0.9872321252569627\n",
      "Logistic Regression with interactions matrix:\n",
      "Accuracy: 0.6675\n",
      "Precision: 0.33375\n",
      "Recall: 0.5\n"
     ]
    }
   ],
   "source": [
    "import pandas as pd\n",
    "from sklearn.discriminant_analysis import LinearDiscriminantAnalysis, QuadraticDiscriminantAnalysis\n",
    "from sklearn.neighbors import KNeighborsClassifier\n",
    "from sklearn.metrics import accuracy_score, precision_score, recall_score\n",
    "from algo_implementation import logistic_regression\n",
    "from power_qcut import prepare_cols_comb\n",
    "\n",
    "# Load train and test datasets\n",
    "train_df = pd.read_csv('train_dataset2.csv')\n",
    "train_df.set_index('DateTime', inplace=True)\n",
    "test_df = pd.read_csv('test_dataset2.csv')\n",
    "test_df.set_index('DateTime', inplace=True)\n",
    "\n",
    "# Extract features and target variable\n",
    "X_train, y_train = train_df.iloc[:, :-1], train_df.iloc[:, -1]\n",
    "X_test, y_test = test_df.iloc[:, :-1], test_df.iloc[:, -1]\n",
    "\n",
    "# Train and evaluate logistic regression\n",
    "lr = logistic_regression()\n",
    "lr.fit(X_train, y_train)\n",
    "lr_pred = lr.predict(X_test)\n",
    "lr_acc = accuracy_score(y_test, lr_pred)\n",
    "lr_precision = precision_score(y_test, lr_pred, average='macro')\n",
    "lr_recall = recall_score(y_test, lr_pred, average='macro')\n",
    "\n",
    "new_columns = prepare_cols_comb(X_train.columns, operations = ['*', '/'])\n",
    "\n",
    "for i in range(len(new_columns)):\n",
    "    X_train[f'var_{i}'] = X_train.eval(new_columns[i])\n",
    "    X_test[f'var_{i}'] = X_test.eval(new_columns[i])\n",
    "\n",
    "# Train and evaluate logistic regression with interactiobs matrix\n",
    "lr = logistic_regression()\n",
    "lr.fit(X_train, y_train)\n",
    "lr_pred = lr.predict(X_test)\n",
    "lr_acc_matrix = accuracy_score(y_test, lr_pred)\n",
    "lr_precision_matrix = precision_score(y_test, lr_pred, average='macro')\n",
    "lr_recall_matrix = recall_score(y_test, lr_pred, average='macro')\n",
    "\n",
    "\n",
    "\n",
    "# Print evaluation results\n",
    "print('Logistic Regression:')\n",
    "print(f'Accuracy: {lr_acc}')\n",
    "print(f'Precision: {lr_precision}')\n",
    "print(f'Recall: {lr_recall}')\n",
    "\n",
    "print('Logistic Regression with interactions matrix:')\n",
    "print(f'Accuracy: {lr_acc_matrix}')\n",
    "print(f'Precision: {lr_precision_matrix}')\n",
    "print(f'Recall: {lr_recall_matrix}')\n",
    "\n"
   ]
  },
  {
   "cell_type": "code",
   "execution_count": 19,
   "metadata": {},
   "outputs": [],
   "source": [
    "import warnings\n",
    "warnings.filterwarnings('ignore')"
   ]
  },
  {
   "cell_type": "code",
   "execution_count": null,
   "metadata": {},
   "outputs": [],
   "source": []
  }
 ],
 "metadata": {
  "kernelspec": {
   "display_name": "Python 3",
   "language": "python",
   "name": "python3"
  },
  "language_info": {
   "codemirror_mode": {
    "name": "ipython",
    "version": 3
   },
   "file_extension": ".py",
   "mimetype": "text/x-python",
   "name": "python",
   "nbconvert_exporter": "python",
   "pygments_lexer": "ipython3",
   "version": "3.10.8"
  },
  "orig_nbformat": 4
 },
 "nbformat": 4,
 "nbformat_minor": 2
}
