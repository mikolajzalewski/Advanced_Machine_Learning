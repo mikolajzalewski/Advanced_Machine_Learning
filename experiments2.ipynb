{
 "cells": [
  {
   "cell_type": "code",
   "execution_count": 21,
   "metadata": {},
   "outputs": [
    {
     "name": "stdout",
     "output_type": "stream",
     "text": [
      "Logistic Regression:\n",
      "Accuracy: 0.8541666666666666\n",
      "Precision: 0.8303030303030303\n",
      "Recall: 0.8303030303030303\n",
      "\n",
      "LDA:\n",
      "Accuracy: 0.8229166666666666\n",
      "Precision: 0.8180952380952381\n",
      "Recall: 0.753030303030303\n",
      "\n",
      "QDA:\n",
      "Accuracy: 0.8333333333333334\n",
      "Precision: 0.806060606060606\n",
      "Recall: 0.806060606060606\n",
      "\n",
      "KNN:\n",
      "Accuracy: 0.875\n",
      "Precision: 0.8500948766603416\n",
      "Recall: 0.8727272727272728\n"
     ]
    }
   ],
   "source": [
    "import pandas as pd\n",
    "from sklearn.discriminant_analysis import LinearDiscriminantAnalysis, QuadraticDiscriminantAnalysis\n",
    "from sklearn.neighbors import KNeighborsClassifier\n",
    "from sklearn.metrics import accuracy_score, precision_score, recall_score\n",
    "from algo_implementation import logistic_regression\n",
    "\n",
    "# Load train and test datasets\n",
    "train_df = pd.read_csv('train_dataset2.csv').drop(columns=['Unnamed: 0'])\n",
    "test_df = pd.read_csv('test_dataset2.csv').drop(columns=['Unnamed: 0'])\n",
    "\n",
    "# Extract features and target variable\n",
    "X_train, y_train = train_df.iloc[:, :-1], train_df.iloc[:, -1]\n",
    "X_test, y_test = test_df.iloc[:, :-1], test_df.iloc[:, -1]\n",
    "\n",
    "# Train and evaluate logistic regression\n",
    "lr = logistic_regression()\n",
    "lr.fit(X_train, y_train)\n",
    "lr_pred = lr.predict(X_test)\n",
    "lr_acc = accuracy_score(y_test, lr_pred)\n",
    "lr_precision = precision_score(y_test, lr_pred, average='macro')\n",
    "lr_recall = recall_score(y_test, lr_pred, average='macro')\n",
    "\n",
    "# Train and evaluate LDA\n",
    "lda = LinearDiscriminantAnalysis()\n",
    "lda.fit(X_train, y_train)\n",
    "lda_pred = lda.predict(X_test)\n",
    "lda_acc = accuracy_score(y_test, lda_pred)\n",
    "lda_precision = precision_score(y_test, lda_pred, average='macro')\n",
    "lda_recall = recall_score(y_test, lda_pred, average='macro')\n",
    "\n",
    "# Train and evaluate QDA\n",
    "qda = QuadraticDiscriminantAnalysis()\n",
    "qda.fit(X_train, y_train)\n",
    "qda_pred = qda.predict(X_test)\n",
    "qda_acc = accuracy_score(y_test, qda_pred)\n",
    "qda_precision = precision_score(y_test, qda_pred, average='macro')\n",
    "qda_recall = recall_score(y_test, qda_pred, average='macro')\n",
    "\n",
    "# Train and evaluate KNN\n",
    "knn = KNeighborsClassifier()\n",
    "knn.fit(X_train, y_train)\n",
    "knn_pred = knn.predict(X_test)\n",
    "knn_acc = accuracy_score(y_test, knn_pred)\n",
    "knn_precision = precision_score(y_test, knn_pred, average='macro')\n",
    "knn_recall = recall_score(y_test, knn_pred, average='macro')\n",
    "\n",
    "# Print evaluation results\n",
    "print('Logistic Regression:')\n",
    "print(f'Accuracy: {lr_acc}')\n",
    "print(f'Precision: {lr_precision}')\n",
    "print(f'Recall: {lr_recall}')\n",
    "print()\n",
    "print('LDA:')\n",
    "print(f'Accuracy: {lda_acc}')\n",
    "print(f'Precision: {lda_precision}')\n",
    "print(f'Recall: {lda_recall}')\n",
    "print()\n",
    "print('QDA:')\n",
    "print(f'Accuracy: {qda_acc}')\n",
    "print(f'Precision: {qda_precision}')\n",
    "print(f'Recall: {qda_recall}')\n",
    "print()\n",
    "print('KNN:')\n",
    "print(f'Accuracy: {knn_acc}')\n",
    "print(f'Precision: {knn_precision}')\n",
    "print(f'Recall: {knn_recall}')\n"
   ]
  },
  {
   "attachments": {},
   "cell_type": "markdown",
   "metadata": {},
   "source": [
    "# Interactions"
   ]
  },
  {
   "cell_type": "code",
   "execution_count": 22,
   "metadata": {},
   "outputs": [],
   "source": [
    "from power_qcut import qcut_fold_validation, prepare_cols_comb"
   ]
  },
  {
   "cell_type": "code",
   "execution_count": 23,
   "metadata": {},
   "outputs": [],
   "source": [
    "X_train.columns = X_train.columns.str.replace(' ', '_')\n",
    "X_test.columns = X_test.columns.str.replace(' ', '_')"
   ]
  },
  {
   "cell_type": "code",
   "execution_count": 24,
   "metadata": {},
   "outputs": [],
   "source": [
    "basic_cols = list(X_train.columns)"
   ]
  },
  {
   "cell_type": "code",
   "execution_count": 25,
   "metadata": {},
   "outputs": [],
   "source": [
    "col1 = prepare_cols_comb(list(prepare_cols_comb(basic_cols)) + basic_cols)"
   ]
  },
  {
   "cell_type": "code",
   "execution_count": 26,
   "metadata": {},
   "outputs": [],
   "source": [
    "data = pd.concat([X_train, y_train], axis=1)"
   ]
  },
  {
   "cell_type": "code",
   "execution_count": 27,
   "metadata": {},
   "outputs": [
    {
     "name": "stderr",
     "output_type": "stream",
     "text": [
      "100%|██████████| 1046/1046 [00:00<00:00, 2791.74it/s]\n"
     ]
    }
   ],
   "source": [
    "import numpy as np\n",
    "res1 = qcut_fold_validation(data, 4, 'Car', col1, np.mean, 4)"
   ]
  },
  {
   "cell_type": "code",
   "execution_count": 28,
   "metadata": {},
   "outputs": [],
   "source": [
    "res1.reset_index(drop=True, inplace=True)"
   ]
  },
  {
   "cell_type": "code",
   "execution_count": 34,
   "metadata": {},
   "outputs": [],
   "source": [
    "X_train['Qcut_Var_1'] = X_train.eval(f'{res1.sort_values(\"mono\").feature[0]}')\n",
    "X_test['Qcut_Var_1'] = X_test.eval(f'{res1.sort_values(\"mono\").feature[0]}')\n"
   ]
  },
  {
   "cell_type": "code",
   "execution_count": 35,
   "metadata": {},
   "outputs": [
    {
     "name": "stdout",
     "output_type": "stream",
     "text": [
      "Logistic Regression:\n",
      "Accuracy: 0.3125\n",
      "Precision: 0.15625\n",
      "Recall: 0.5\n",
      "\n",
      "LDA:\n",
      "Accuracy: 0.8229166666666666\n",
      "Precision: 0.8180952380952381\n",
      "Recall: 0.753030303030303\n",
      "\n",
      "QDA:\n",
      "Accuracy: 0.7708333333333334\n",
      "Precision: 0.7521367521367521\n",
      "Recall: 0.6787878787878787\n",
      "\n",
      "KNN:\n",
      "Accuracy: 0.8854166666666666\n",
      "Precision: 0.8621933621933622\n",
      "Recall: 0.8803030303030304\n"
     ]
    },
    {
     "name": "stderr",
     "output_type": "stream",
     "text": [
      "c:\\Users\\mikol\\AppData\\Local\\Programs\\Python\\Python310\\lib\\site-packages\\sklearn\\metrics\\_classification.py:1344: UndefinedMetricWarning: Precision is ill-defined and being set to 0.0 in labels with no predicted samples. Use `zero_division` parameter to control this behavior.\n",
      "  _warn_prf(average, modifier, msg_start, len(result))\n",
      "c:\\Users\\mikol\\AppData\\Local\\Programs\\Python\\Python310\\lib\\site-packages\\sklearn\\discriminant_analysis.py:926: UserWarning: Variables are collinear\n",
      "  warnings.warn(\"Variables are collinear\")\n"
     ]
    }
   ],
   "source": [
    "\n",
    "# Train and evaluate logistic regression\n",
    "lr = logistic_regression()\n",
    "lr.fit(X_train, y_train)\n",
    "lr_pred = lr.predict(X_test)\n",
    "lr_acc = accuracy_score(y_test, lr_pred)\n",
    "lr_precision = precision_score(y_test, lr_pred, average='macro')\n",
    "lr_recall = recall_score(y_test, lr_pred, average='macro')\n",
    "\n",
    "# Train and evaluate LDA\n",
    "lda = LinearDiscriminantAnalysis()\n",
    "lda.fit(X_train, y_train)\n",
    "lda_pred = lda.predict(X_test)\n",
    "lda_acc = accuracy_score(y_test, lda_pred)\n",
    "lda_precision = precision_score(y_test, lda_pred, average='macro')\n",
    "lda_recall = recall_score(y_test, lda_pred, average='macro')\n",
    "\n",
    "# Train and evaluate QDA\n",
    "qda = QuadraticDiscriminantAnalysis()\n",
    "qda.fit(X_train, y_train)\n",
    "qda_pred = qda.predict(X_test)\n",
    "qda_acc = accuracy_score(y_test, qda_pred)\n",
    "qda_precision = precision_score(y_test, qda_pred, average='macro')\n",
    "qda_recall = recall_score(y_test, qda_pred, average='macro')\n",
    "\n",
    "# Train and evaluate KNN\n",
    "knn = KNeighborsClassifier()\n",
    "knn.fit(X_train, y_train)\n",
    "knn_pred = knn.predict(X_test)\n",
    "knn_acc = accuracy_score(y_test, knn_pred)\n",
    "knn_precision = precision_score(y_test, knn_pred, average='macro')\n",
    "knn_recall = recall_score(y_test, knn_pred, average='macro')\n",
    "\n",
    "# Print evaluation results\n",
    "print('Logistic Regression:')\n",
    "print(f'Accuracy: {lr_acc}')\n",
    "print(f'Precision: {lr_precision}')\n",
    "print(f'Recall: {lr_recall}')\n",
    "print()\n",
    "print('LDA:')\n",
    "print(f'Accuracy: {lda_acc}')\n",
    "print(f'Precision: {lda_precision}')\n",
    "print(f'Recall: {lda_recall}')\n",
    "print()\n",
    "print('QDA:')\n",
    "print(f'Accuracy: {qda_acc}')\n",
    "print(f'Precision: {qda_precision}')\n",
    "print(f'Recall: {qda_recall}')\n",
    "print()\n",
    "print('KNN:')\n",
    "print(f'Accuracy: {knn_acc}')\n",
    "print(f'Precision: {knn_precision}')\n",
    "print(f'Recall: {knn_recall}')\n"
   ]
  },
  {
   "cell_type": "code",
   "execution_count": null,
   "metadata": {},
   "outputs": [],
   "source": []
  }
 ],
 "metadata": {
  "kernelspec": {
   "display_name": "Python 3",
   "language": "python",
   "name": "python3"
  },
  "language_info": {
   "codemirror_mode": {
    "name": "ipython",
    "version": 3
   },
   "file_extension": ".py",
   "mimetype": "text/x-python",
   "name": "python",
   "nbconvert_exporter": "python",
   "pygments_lexer": "ipython3",
   "version": "3.10.8"
  },
  "orig_nbformat": 4
 },
 "nbformat": 4,
 "nbformat_minor": 2
}
