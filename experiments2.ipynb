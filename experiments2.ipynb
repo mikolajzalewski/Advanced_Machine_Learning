{
 "cells": [
  {
   "cell_type": "code",
   "execution_count": 79,
   "metadata": {},
   "outputs": [
    {
     "name": "stdout",
     "output_type": "stream",
     "text": [
      "Logistic Regression:\n",
      "Accuracy: 0.8541666666666666\n",
      "Precision: 0.8303030303030303\n",
      "Recall: 0.8303030303030303\n",
      "\n",
      "LDA:\n",
      "Accuracy: 0.8229166666666666\n",
      "Precision: 0.8180952380952381\n",
      "Recall: 0.753030303030303\n",
      "\n",
      "QDA:\n",
      "Accuracy: 0.8333333333333334\n",
      "Precision: 0.806060606060606\n",
      "Recall: 0.806060606060606\n",
      "\n",
      "KNN:\n",
      "Accuracy: 0.875\n",
      "Precision: 0.8500948766603416\n",
      "Recall: 0.8727272727272728\n"
     ]
    }
   ],
   "source": [
    "import pandas as pd\n",
    "from sklearn.discriminant_analysis import LinearDiscriminantAnalysis, QuadraticDiscriminantAnalysis\n",
    "from sklearn.neighbors import KNeighborsClassifier\n",
    "from sklearn.metrics import accuracy_score, precision_score, recall_score\n",
    "from algo_implementation import logistic_regression\n",
    "\n",
    "# Load train and test datasets\n",
    "train_df = pd.read_csv('train_dataset2.csv').drop(columns=['Unnamed: 0'])\n",
    "test_df = pd.read_csv('test_dataset2.csv').drop(columns=['Unnamed: 0'])\n",
    "\n",
    "# Extract features and target variable\n",
    "X_train, y_train = train_df.iloc[:, :-1], train_df.iloc[:, -1]\n",
    "X_test, y_test = test_df.iloc[:, :-1], test_df.iloc[:, -1]\n",
    "\n",
    "# Train and evaluate logistic regression\n",
    "lr = logistic_regression()\n",
    "lr.fit(X_train, y_train)\n",
    "lr_pred = lr.predict(X_test)\n",
    "lr_acc = accuracy_score(y_test, lr_pred)\n",
    "lr_precision = precision_score(y_test, lr_pred, average='macro')\n",
    "lr_recall = recall_score(y_test, lr_pred, average='macro')\n",
    "\n",
    "# Train and evaluate LDA\n",
    "lda = LinearDiscriminantAnalysis()\n",
    "lda.fit(X_train, y_train)\n",
    "lda_pred = lda.predict(X_test)\n",
    "lda_acc = accuracy_score(y_test, lda_pred)\n",
    "lda_precision = precision_score(y_test, lda_pred, average='macro')\n",
    "lda_recall = recall_score(y_test, lda_pred, average='macro')\n",
    "\n",
    "# Train and evaluate QDA\n",
    "qda = QuadraticDiscriminantAnalysis()\n",
    "qda.fit(X_train, y_train)\n",
    "qda_pred = qda.predict(X_test)\n",
    "qda_acc = accuracy_score(y_test, qda_pred)\n",
    "qda_precision = precision_score(y_test, qda_pred, average='macro')\n",
    "qda_recall = recall_score(y_test, qda_pred, average='macro')\n",
    "\n",
    "# Train and evaluate KNN\n",
    "knn = KNeighborsClassifier()\n",
    "knn.fit(X_train, y_train)\n",
    "knn_pred = knn.predict(X_test)\n",
    "knn_acc = accuracy_score(y_test, knn_pred)\n",
    "knn_precision = precision_score(y_test, knn_pred, average='macro')\n",
    "knn_recall = recall_score(y_test, knn_pred, average='macro')\n",
    "\n",
    "# Print evaluation results\n",
    "print('Logistic Regression:')\n",
    "print(f'Accuracy: {lr_acc}')\n",
    "print(f'Precision: {lr_precision}')\n",
    "print(f'Recall: {lr_recall}')\n",
    "print()\n",
    "print('LDA:')\n",
    "print(f'Accuracy: {lda_acc}')\n",
    "print(f'Precision: {lda_precision}')\n",
    "print(f'Recall: {lda_recall}')\n",
    "print()\n",
    "print('QDA:')\n",
    "print(f'Accuracy: {qda_acc}')\n",
    "print(f'Precision: {qda_precision}')\n",
    "print(f'Recall: {qda_recall}')\n",
    "print()\n",
    "print('KNN:')\n",
    "print(f'Accuracy: {knn_acc}')\n",
    "print(f'Precision: {knn_precision}')\n",
    "print(f'Recall: {knn_recall}')\n"
   ]
  },
  {
   "attachments": {},
   "cell_type": "markdown",
   "metadata": {},
   "source": [
    "# Interactions"
   ]
  },
  {
   "cell_type": "code",
   "execution_count": 80,
   "metadata": {},
   "outputs": [],
   "source": [
    "from power_qcut import qcut_fold_validation, prepare_cols_comb"
   ]
  },
  {
   "cell_type": "code",
   "execution_count": 81,
   "metadata": {},
   "outputs": [],
   "source": [
    "X_train.columns = X_train.columns.str.replace(' ', '_')\n",
    "X_test.columns = X_test.columns.str.replace(' ', '_')"
   ]
  },
  {
   "cell_type": "code",
   "execution_count": 4,
   "metadata": {},
   "outputs": [],
   "source": [
    "basic_cols = list(X_train.columns)"
   ]
  },
  {
   "cell_type": "code",
   "execution_count": 5,
   "metadata": {},
   "outputs": [],
   "source": [
    "col1 = prepare_cols_comb(list(prepare_cols_comb(basic_cols)) + basic_cols)"
   ]
  },
  {
   "cell_type": "code",
   "execution_count": 6,
   "metadata": {},
   "outputs": [],
   "source": [
    "data = pd.concat([X_train, y_train], axis=1)"
   ]
  },
  {
   "cell_type": "code",
   "execution_count": 7,
   "metadata": {},
   "outputs": [
    {
     "name": "stderr",
     "output_type": "stream",
     "text": [
      "100%|██████████| 1046/1046 [00:00<00:00, 1319.34it/s]\n"
     ]
    }
   ],
   "source": [
    "import numpy as np\n",
    "res1 = qcut_fold_validation(data, 4, 'Car', col1, np.mean, 4)"
   ]
  },
  {
   "cell_type": "code",
   "execution_count": 8,
   "metadata": {},
   "outputs": [],
   "source": [
    "res1.reset_index(drop=True, inplace=True)"
   ]
  },
  {
   "cell_type": "code",
   "execution_count": 9,
   "metadata": {},
   "outputs": [
    {
     "data": {
      "text/plain": [
       "'Monthly_Income * Finance_History + Monthly_Income - Years_of_Employment'"
      ]
     },
     "execution_count": 9,
     "metadata": {},
     "output_type": "execute_result"
    }
   ],
   "source": [
    "res1.sort_values(\"mono\").feature[1]"
   ]
  },
  {
   "cell_type": "code",
   "execution_count": 15,
   "metadata": {},
   "outputs": [
    {
     "data": {
      "text/plain": [
       "'Monthly_Income * Number_of_Children + Monthly_Income - Years_of_Employment'"
      ]
     },
     "execution_count": 15,
     "metadata": {},
     "output_type": "execute_result"
    }
   ],
   "source": [
    "res1.sort_values(\"mono\").feature[4]"
   ]
  },
  {
   "cell_type": "code",
   "execution_count": 20,
   "metadata": {},
   "outputs": [
    {
     "data": {
      "text/plain": [
       "'Finance_Status / Years_of_Employment - Years_of_Employment - Finance_History'"
      ]
     },
     "execution_count": 20,
     "metadata": {},
     "output_type": "execute_result"
    }
   ],
   "source": [
    "res1.sort_values(\"mono\").feature.loc[11]"
   ]
  },
  {
   "cell_type": "code",
   "execution_count": 21,
   "metadata": {},
   "outputs": [],
   "source": [
    "X_train['Qcut_Var_1'] = X_train.eval('Monthly_Income * Finance_History')\n",
    "X_train['Qcut_Var_1'] = (X_train['Qcut_Var_1'] - X_train['Qcut_Var_1'].mean()) / X_train['Qcut_Var_1'].std()\n",
    "X_test['Qcut_Var_1'] = X_test.eval('Monthly_Income * Finance_History')\n",
    "X_test['Qcut_Var_1'] = (X_test['Qcut_Var_1'] - X_train['Qcut_Var_1'].mean()) / X_train['Qcut_Var_1'].std()\n",
    "X_train['Qcut_Var_2'] = X_train.eval('Monthly_Income * Number_of_Children')\n",
    "X_train['Qcut_Var_2'] = (X_train['Qcut_Var_2'] - X_train['Qcut_Var_2'].mean()) / X_train['Qcut_Var_2'].std()\n",
    "X_test['Qcut_Var_2'] = X_test.eval('Monthly_Income * Number_of_Children')\n",
    "X_test['Qcut_Var_2'] = (X_test['Qcut_Var_2'] - X_train['Qcut_Var_2'].mean()) / X_train['Qcut_Var_2'].std()\n",
    "X_train['Qcut_Var_3'] = X_train.eval('Finance_Status / Years_of_Employment')\n",
    "X_train['Qcut_Var_3'] = (X_train['Qcut_Var_3'] - X_train['Qcut_Var_3'].mean()) / X_train['Qcut_Var_3'].std()\n",
    "X_test['Qcut_Var_3'] = X_test.eval('Finance_Status / Years_of_Employment')\n",
    "X_test['Qcut_Var_3'] = (X_test['Qcut_Var_3'] - X_train['Qcut_Var_3'].mean()) / X_train['Qcut_Var_3'].std()"
   ]
  },
  {
   "cell_type": "code",
   "execution_count": 22,
   "metadata": {},
   "outputs": [
    {
     "name": "stdout",
     "output_type": "stream",
     "text": [
      "Logistic Regression:\n",
      "Accuracy: 0.8541666666666666\n",
      "Precision: 0.8303030303030303\n",
      "Recall: 0.8303030303030303\n",
      "\n",
      "LDA:\n",
      "Accuracy: 0.84375\n",
      "Precision: 0.8377010125074449\n",
      "Recall: 0.7863636363636364\n",
      "\n",
      "QDA:\n",
      "Accuracy: 0.7395833333333334\n",
      "Precision: 0.7727272727272727\n",
      "Recall: 0.8106060606060606\n",
      "\n",
      "KNN:\n",
      "Accuracy: 0.875\n",
      "Precision: 0.8545454545454545\n",
      "Recall: 0.8545454545454545\n"
     ]
    }
   ],
   "source": [
    "\n",
    "# Train and evaluate logistic regression\n",
    "lr = logistic_regression()\n",
    "lr.fit(X_train, y_train)\n",
    "lr_pred = lr.predict(X_test)\n",
    "lr_acc = accuracy_score(y_test, lr_pred)\n",
    "lr_precision = precision_score(y_test, lr_pred, average='macro')\n",
    "lr_recall = recall_score(y_test, lr_pred, average='macro')\n",
    "\n",
    "# Train and evaluate LDA\n",
    "lda = LinearDiscriminantAnalysis()\n",
    "lda.fit(X_train, y_train)\n",
    "lda_pred = lda.predict(X_test)\n",
    "lda_acc = accuracy_score(y_test, lda_pred)\n",
    "lda_precision = precision_score(y_test, lda_pred, average='macro')\n",
    "lda_recall = recall_score(y_test, lda_pred, average='macro')\n",
    "\n",
    "# Train and evaluate QDA\n",
    "qda = QuadraticDiscriminantAnalysis()\n",
    "qda.fit(X_train, y_train)\n",
    "qda_pred = qda.predict(X_test)\n",
    "qda_acc = accuracy_score(y_test, qda_pred)\n",
    "qda_precision = precision_score(y_test, qda_pred, average='macro')\n",
    "qda_recall = recall_score(y_test, qda_pred, average='macro')\n",
    "\n",
    "# Train and evaluate KNN\n",
    "knn = KNeighborsClassifier()\n",
    "knn.fit(X_train, y_train)\n",
    "knn_pred = knn.predict(X_test)\n",
    "knn_acc = accuracy_score(y_test, knn_pred)\n",
    "knn_precision = precision_score(y_test, knn_pred, average='macro')\n",
    "knn_recall = recall_score(y_test, knn_pred, average='macro')\n",
    "\n",
    "# Print evaluation results\n",
    "print('Logistic Regression:')\n",
    "print(f'Accuracy: {lr_acc}')\n",
    "print(f'Precision: {lr_precision}')\n",
    "print(f'Recall: {lr_recall}')\n",
    "print()\n",
    "print('LDA:')\n",
    "print(f'Accuracy: {lda_acc}')\n",
    "print(f'Precision: {lda_precision}')\n",
    "print(f'Recall: {lda_recall}')\n",
    "print()\n",
    "print('QDA:')\n",
    "print(f'Accuracy: {qda_acc}')\n",
    "print(f'Precision: {qda_precision}')\n",
    "print(f'Recall: {qda_recall}')\n",
    "print()\n",
    "print('KNN:')\n",
    "print(f'Accuracy: {knn_acc}')\n",
    "print(f'Precision: {knn_precision}')\n",
    "print(f'Recall: {knn_recall}')\n"
   ]
  },
  {
   "cell_type": "code",
   "execution_count": 82,
   "metadata": {},
   "outputs": [],
   "source": [
    "%%capture\n",
    "new_X_train = pd.DataFrame()\n",
    "new_X_test = pd.DataFrame()\n",
    "\n",
    "for i, col_val in enumerate(list(res1.feature)[:20]):\n",
    "    new_X_train[f'Q_var_{i}'] = X_train.eval(col_val)\n",
    "    new_X_test[f'Q_var_{i}'] = X_test.eval(col_val)"
   ]
  },
  {
   "cell_type": "code",
   "execution_count": 83,
   "metadata": {},
   "outputs": [
    {
     "name": "stdout",
     "output_type": "stream",
     "text": [
      "0      Q_var_0\n",
      "1      Q_var_1\n",
      "2      Q_var_2\n",
      "3      Q_var_3\n",
      "4      Q_var_4\n",
      "5      Q_var_5\n",
      "6      Q_var_6\n",
      "7      Q_var_7\n",
      "9      Q_var_9\n",
      "12    Q_var_12\n",
      "13    Q_var_13\n",
      "14    Q_var_14\n",
      "15    Q_var_15\n",
      "16    Q_var_16\n",
      "17    Q_var_17\n",
      "18    Q_var_18\n",
      "19    Q_var_19\n",
      "Name: variables, dtype: object\n"
     ]
    },
    {
     "name": "stderr",
     "output_type": "stream",
     "text": [
      "c:\\Users\\mikol\\AppData\\Local\\Programs\\Python\\Python310\\lib\\site-packages\\statsmodels\\stats\\outliers_influence.py:195: RuntimeWarning: divide by zero encountered in double_scalars\n",
      "  vif = 1. / (1. - r_squared_i)\n"
     ]
    }
   ],
   "source": [
    "from preprocessor import Preprocessor\n",
    "\n",
    "p = Preprocessor()\n",
    "vif_coefs = p.vif(new_X_train)\n",
    "colnames = vif_coefs[vif_coefs['VIF'] >= 10]['variables']\n",
    "X_train, X_test = new_X_train.drop(colnames, axis=1 ), new_X_test.drop(colnames, axis=1 )\n",
    "print(colnames)"
   ]
  },
  {
   "cell_type": "code",
   "execution_count": 84,
   "metadata": {},
   "outputs": [
    {
     "name": "stdout",
     "output_type": "stream",
     "text": [
      "Logistic Regression:\n",
      "Accuracy: 0.78125\n",
      "Precision: 0.7484507042253521\n",
      "Recall: 0.7227272727272727\n",
      "\n",
      "LDA:\n",
      "Accuracy: 0.78125\n",
      "Precision: 0.7519356759976177\n",
      "Recall: 0.7136363636363636\n",
      "\n",
      "QDA:\n",
      "Accuracy: 0.8125\n",
      "Precision: 0.7916666666666667\n",
      "Recall: 0.7545454545454545\n",
      "\n",
      "KNN:\n",
      "Accuracy: 0.90625\n",
      "Precision: 0.8852813852813852\n",
      "Recall: 0.9045454545454545\n"
     ]
    }
   ],
   "source": [
    "\n",
    "# Train and evaluate logistic regression\n",
    "lr = logistic_regression()\n",
    "lr.fit(X_train, y_train)\n",
    "lr_pred = lr.predict(X_test)\n",
    "lr_acc = accuracy_score(y_test, lr_pred)\n",
    "lr_precision = precision_score(y_test, lr_pred, average='macro')\n",
    "lr_recall = recall_score(y_test, lr_pred, average='macro')\n",
    "\n",
    "# Train and evaluate LDA\n",
    "lda = LinearDiscriminantAnalysis()\n",
    "lda.fit(X_train, y_train)\n",
    "lda_pred = lda.predict(X_test)\n",
    "lda_acc = accuracy_score(y_test, lda_pred)\n",
    "lda_precision = precision_score(y_test, lda_pred, average='macro')\n",
    "lda_recall = recall_score(y_test, lda_pred, average='macro')\n",
    "\n",
    "# Train and evaluate QDA\n",
    "qda = QuadraticDiscriminantAnalysis()\n",
    "qda.fit(X_train, y_train)\n",
    "qda_pred = qda.predict(X_test)\n",
    "qda_acc = accuracy_score(y_test, qda_pred)\n",
    "qda_precision = precision_score(y_test, qda_pred, average='macro')\n",
    "qda_recall = recall_score(y_test, qda_pred, average='macro')\n",
    "\n",
    "# Train and evaluate KNN\n",
    "knn = KNeighborsClassifier()\n",
    "knn.fit(X_train, y_train)\n",
    "knn_pred = knn.predict(X_test)\n",
    "knn_acc = accuracy_score(y_test, knn_pred)\n",
    "knn_precision = precision_score(y_test, knn_pred, average='macro')\n",
    "knn_recall = recall_score(y_test, knn_pred, average='macro')\n",
    "\n",
    "# Print evaluation results\n",
    "print('Logistic Regression:')\n",
    "print(f'Accuracy: {lr_acc}')\n",
    "print(f'Precision: {lr_precision}')\n",
    "print(f'Recall: {lr_recall}')\n",
    "print()\n",
    "print('LDA:')\n",
    "print(f'Accuracy: {lda_acc}')\n",
    "print(f'Precision: {lda_precision}')\n",
    "print(f'Recall: {lda_recall}')\n",
    "print()\n",
    "print('QDA:')\n",
    "print(f'Accuracy: {qda_acc}')\n",
    "print(f'Precision: {qda_precision}')\n",
    "print(f'Recall: {qda_recall}')\n",
    "print()\n",
    "print('KNN:')\n",
    "print(f'Accuracy: {knn_acc}')\n",
    "print(f'Precision: {knn_precision}')\n",
    "print(f'Recall: {knn_recall}')\n"
   ]
  },
  {
   "cell_type": "code",
   "execution_count": null,
   "metadata": {},
   "outputs": [],
   "source": []
  }
 ],
 "metadata": {
  "kernelspec": {
   "display_name": "Python 3",
   "language": "python",
   "name": "python3"
  },
  "language_info": {
   "codemirror_mode": {
    "name": "ipython",
    "version": 3
   },
   "file_extension": ".py",
   "mimetype": "text/x-python",
   "name": "python",
   "nbconvert_exporter": "python",
   "pygments_lexer": "ipython3",
   "version": "3.10.8"
  },
  "orig_nbformat": 4
 },
 "nbformat": 4,
 "nbformat_minor": 2
}
